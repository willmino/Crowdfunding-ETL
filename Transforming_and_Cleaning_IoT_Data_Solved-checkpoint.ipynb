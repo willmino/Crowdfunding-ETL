{
 "cells": [
  {
   "cell_type": "code",
   "execution_count": 1,
   "metadata": {},
   "outputs": [],
   "source": [
    "import pandas as pd\n",
    "pd.options.display.max_colwidth = 200"
   ]
  },
  {
   "cell_type": "code",
   "execution_count": 7,
   "metadata": {},
   "outputs": [
    {
     "data": {
      "text/plain": [
       "'/Users/willmino/Library/ucsd/gitlab/03-Lesson-Plans/08-ETL/2/Activities/08-Evr_Transforming_Cleaning_IoT_Data/Solved'"
      ]
     },
     "execution_count": 7,
     "metadata": {},
     "output_type": "execute_result"
    }
   ],
   "source": []
  },
  {
   "cell_type": "code",
   "execution_count": 2,
   "metadata": {},
   "outputs": [
    {
     "data": {
      "text/html": [
       "<div>\n",
       "<style scoped>\n",
       "    .dataframe tbody tr th:only-of-type {\n",
       "        vertical-align: middle;\n",
       "    }\n",
       "\n",
       "    .dataframe tbody tr th {\n",
       "        vertical-align: top;\n",
       "    }\n",
       "\n",
       "    .dataframe thead th {\n",
       "        text-align: right;\n",
       "    }\n",
       "</style>\n",
       "<table border=\"1\" class=\"dataframe\">\n",
       "  <thead>\n",
       "    <tr style=\"text-align: right;\">\n",
       "      <th></th>\n",
       "      <th>0</th>\n",
       "    </tr>\n",
       "  </thead>\n",
       "  <tbody>\n",
       "    <tr>\n",
       "      <th>0</th>\n",
       "      <td>{\"device\":1,\"timestamp\":\"Sat, 10 Jul 2021 14:36:52\",\"temperature\":89.2193137146415437,\"pressure\":1.035,\"humidity\":20.0136578728022615}</td>\n",
       "    </tr>\n",
       "    <tr>\n",
       "      <th>1</th>\n",
       "      <td>{\"device\":2,\"timestamp\":\"Sat, 10 Jul 2021 14:37:53\",\"temperature\":90.9357942474122040,\"pressure\":1.038,\"humidity\":20.8861654040337283}</td>\n",
       "    </tr>\n",
       "    <tr>\n",
       "      <th>2</th>\n",
       "      <td>{\"device\":3,\"timestamp\":\"Sat, 10 Jul 2021 14:39:54\",\"temperature\":92.0625266471389299,\"pressure\":1.035,\"humidity\":19.7559084632667568}</td>\n",
       "    </tr>\n",
       "    <tr>\n",
       "      <th>3</th>\n",
       "      <td>{\"device\":4,\"timestamp\":\"Sat, 10 Jul 2021 14:42:58\",\"temperature\":92.2658753650556534,\"pressure\":1.039,\"humidity\":19.8540776574222951}</td>\n",
       "    </tr>\n",
       "    <tr>\n",
       "      <th>4</th>\n",
       "      <td>{\"device\":5,\"timestamp\":\"Sat, 10 Jul 2021 14:48:01\",\"temperature\":92.8300112871304377,\"pressure\":1.041,\"humidity\":19.2329916912511728}</td>\n",
       "    </tr>\n",
       "  </tbody>\n",
       "</table>\n",
       "</div>"
      ],
      "text/plain": [
       "                                                                                                                                        0\n",
       "0  {\"device\":1,\"timestamp\":\"Sat, 10 Jul 2021 14:36:52\",\"temperature\":89.2193137146415437,\"pressure\":1.035,\"humidity\":20.0136578728022615}\n",
       "1  {\"device\":2,\"timestamp\":\"Sat, 10 Jul 2021 14:37:53\",\"temperature\":90.9357942474122040,\"pressure\":1.038,\"humidity\":20.8861654040337283}\n",
       "2  {\"device\":3,\"timestamp\":\"Sat, 10 Jul 2021 14:39:54\",\"temperature\":92.0625266471389299,\"pressure\":1.035,\"humidity\":19.7559084632667568}\n",
       "3  {\"device\":4,\"timestamp\":\"Sat, 10 Jul 2021 14:42:58\",\"temperature\":92.2658753650556534,\"pressure\":1.039,\"humidity\":19.8540776574222951}\n",
       "4  {\"device\":5,\"timestamp\":\"Sat, 10 Jul 2021 14:48:01\",\"temperature\":92.8300112871304377,\"pressure\":1.041,\"humidity\":19.2329916912511728}"
      ]
     },
     "execution_count": 2,
     "metadata": {},
     "output_type": "execute_result"
    }
   ],
   "source": [
    "# Load the data into a DataFrame, use the sep=\",\" as the delimiter and no header.\n",
    "temp_data_df = pd.read_csv(\"Resources/temperature_data.csv\", sep=\",\", header=None)\n",
    "temp_data_df"
   ]
  },
  {
   "cell_type": "code",
   "execution_count": 3,
   "metadata": {},
   "outputs": [
    {
     "data": {
      "text/plain": [
       "0    {\"device\":1,\"timestamp\":\"Sat, 10 Jul 2021 14:36:52\",\"temperature\":89.2193137146415437,\"pressure\":1.035,\"humidity\":20.0136578728022615}\n",
       "1    {\"device\":2,\"timestamp\":\"Sat, 10 Jul 2021 14:37:53\",\"temperature\":90.9357942474122040,\"pressure\":1.038,\"humidity\":20.8861654040337283}\n",
       "2    {\"device\":3,\"timestamp\":\"Sat, 10 Jul 2021 14:39:54\",\"temperature\":92.0625266471389299,\"pressure\":1.035,\"humidity\":19.7559084632667568}\n",
       "3    {\"device\":4,\"timestamp\":\"Sat, 10 Jul 2021 14:42:58\",\"temperature\":92.2658753650556534,\"pressure\":1.039,\"humidity\":19.8540776574222951}\n",
       "4    {\"device\":5,\"timestamp\":\"Sat, 10 Jul 2021 14:48:01\",\"temperature\":92.8300112871304377,\"pressure\":1.041,\"humidity\":19.2329916912511728}\n",
       "Name: 0, dtype: object"
      ]
     },
     "execution_count": 3,
     "metadata": {},
     "output_type": "execute_result"
    }
   ],
   "source": [
    "# Take a look at the data. \n",
    "temp_data_df[0]"
   ]
  },
  {
   "cell_type": "code",
   "execution_count": 4,
   "metadata": {},
   "outputs": [
    {
     "name": "stdout",
     "output_type": "stream",
     "text": [
      "<class 'pandas.core.frame.DataFrame'>\n",
      "RangeIndex: 5 entries, 0 to 4\n",
      "Data columns (total 1 columns):\n",
      " #   Column  Non-Null Count  Dtype \n",
      "---  ------  --------------  ----- \n",
      " 0   0       5 non-null      object\n",
      "dtypes: object(1)\n",
      "memory usage: 168.0+ bytes\n"
     ]
    }
   ],
   "source": [
    "temp_data_df.info()"
   ]
  },
  {
   "cell_type": "code",
   "execution_count": 5,
   "metadata": {},
   "outputs": [
    {
     "name": "stdout",
     "output_type": "stream",
     "text": [
      "134\n",
      "134\n",
      "134\n",
      "134\n",
      "134\n"
     ]
    }
   ],
   "source": [
    "for i, row in temp_data_df.iterrows():\n",
    "    print(len(row[0]))"
   ]
  },
  {
   "cell_type": "code",
   "execution_count": 7,
   "metadata": {},
   "outputs": [
    {
     "data": {
      "text/plain": [
       "'{\"device\":1,\"timestamp\":\"Sat, 10 Jul 2021 14:36:52\",\"temperature\":89.2193137146415437,\"pressure\":1.035,\"humidity\":20.0136578728022615}'"
      ]
     },
     "execution_count": 7,
     "metadata": {},
     "output_type": "execute_result"
    }
   ],
   "source": [
    "first_row = temp_data_df.iloc[0][0]\n",
    "\n",
    "first_row"
   ]
  },
  {
   "cell_type": "code",
   "execution_count": 17,
   "metadata": {},
   "outputs": [
    {
     "name": "stdout",
     "output_type": "stream",
     "text": [
      "device : 1\n",
      "timestamp : Sat, 10 Jul 2021 14:36:52\n",
      "temperature : 89.21931371464154\n",
      "pressure : 1.035\n",
      "humidity : 20.013657872802263\n",
      "['device', 'timestamp', 'temperature', 'pressure', 'humidity']\n",
      "[1, 'Sat, 10 Jul 2021 14:36:52', 89.21931371464154, 1.035, 20.013657872802263]\n"
     ]
    }
   ],
   "source": [
    "# Test extracting the key and values from the first using json.loads().\n",
    "import json\n",
    "first_row = temp_data_df.iloc[0][0]\n",
    "# Convert the data to a Python dictionary. \n",
    "converted_data = json.loads(first_row)\n",
    "for k, v in converted_data.items():\n",
    "    print(k, \":\" , v)\n",
    "    \n",
    "col=[k for k, v in converted_data.items()]\n",
    "val=[v for k, v in converted_data.items()]\n",
    "\n",
    "print(col)\n",
    "print(val)"
   ]
  },
  {
   "cell_type": "code",
   "execution_count": 7,
   "metadata": {
    "scrolled": true
   },
   "outputs": [
    {
     "name": "stdout",
     "output_type": "stream",
     "text": [
      "['device', 'timestamp', 'temperature', 'pressure', 'humidity']\n",
      "\n",
      "[[1, 'Sat, 10 Jul 2021 14:36:52', 89.21931371464154, 1.035, 20.013657872802263], [2, 'Sat, 10 Jul 2021 14:37:53', 90.9357942474122, 1.038, 20.88616540403373], [3, 'Sat, 10 Jul 2021 14:39:54', 92.06252664713892, 1.035, 19.755908463266756], [4, 'Sat, 10 Jul 2021 14:42:58', 92.26587536505565, 1.039, 19.854077657422295], [5, 'Sat, 10 Jul 2021 14:48:01', 92.83001128713043, 1.041, 19.232991691251172]]\n"
     ]
    }
   ],
   "source": [
    "# 1. Create two list one for the keys and one for the values.\n",
    "values = []\n",
    "column_names = []\n",
    "#  2. Iterate through the DataFrame.\n",
    "for i, row in temp_data_df.iterrows():\n",
    "    data = row[0]\n",
    "    # Convert each row to a Python dictionary.\n",
    "    converted_data = json.loads(data)\n",
    "    # Use a list comprehension to get the keys from the converted data.\n",
    "    columns = [k for k,v in converted_data.items()]\n",
    "    # Use a list comprehension to get the values for each row.\n",
    "    row_values = [v for k, v in converted_data.items()]\n",
    "    # Append the keys and list values to the lists created in step 1.  \n",
    "    column_names.append(columns)\n",
    "    values.append(row_values)\n",
    "\n",
    "# Print out the keys and list of values for each row.\n",
    "print(column_names[0])\n",
    "print()\n",
    "print(values)"
   ]
  },
  {
   "cell_type": "code",
   "execution_count": 8,
   "metadata": {},
   "outputs": [
    {
     "data": {
      "text/html": [
       "<div>\n",
       "<style scoped>\n",
       "    .dataframe tbody tr th:only-of-type {\n",
       "        vertical-align: middle;\n",
       "    }\n",
       "\n",
       "    .dataframe tbody tr th {\n",
       "        vertical-align: top;\n",
       "    }\n",
       "\n",
       "    .dataframe thead th {\n",
       "        text-align: right;\n",
       "    }\n",
       "</style>\n",
       "<table border=\"1\" class=\"dataframe\">\n",
       "  <thead>\n",
       "    <tr style=\"text-align: right;\">\n",
       "      <th></th>\n",
       "      <th>device</th>\n",
       "      <th>timestamp</th>\n",
       "      <th>temperature</th>\n",
       "      <th>pressure</th>\n",
       "      <th>humidity</th>\n",
       "    </tr>\n",
       "  </thead>\n",
       "  <tbody>\n",
       "    <tr>\n",
       "      <th>0</th>\n",
       "      <td>1</td>\n",
       "      <td>Sat, 10 Jul 2021 14:36:52</td>\n",
       "      <td>89.219314</td>\n",
       "      <td>1.035</td>\n",
       "      <td>20.013658</td>\n",
       "    </tr>\n",
       "    <tr>\n",
       "      <th>1</th>\n",
       "      <td>2</td>\n",
       "      <td>Sat, 10 Jul 2021 14:37:53</td>\n",
       "      <td>90.935794</td>\n",
       "      <td>1.038</td>\n",
       "      <td>20.886165</td>\n",
       "    </tr>\n",
       "    <tr>\n",
       "      <th>2</th>\n",
       "      <td>3</td>\n",
       "      <td>Sat, 10 Jul 2021 14:39:54</td>\n",
       "      <td>92.062527</td>\n",
       "      <td>1.035</td>\n",
       "      <td>19.755908</td>\n",
       "    </tr>\n",
       "    <tr>\n",
       "      <th>3</th>\n",
       "      <td>4</td>\n",
       "      <td>Sat, 10 Jul 2021 14:42:58</td>\n",
       "      <td>92.265875</td>\n",
       "      <td>1.039</td>\n",
       "      <td>19.854078</td>\n",
       "    </tr>\n",
       "    <tr>\n",
       "      <th>4</th>\n",
       "      <td>5</td>\n",
       "      <td>Sat, 10 Jul 2021 14:48:01</td>\n",
       "      <td>92.830011</td>\n",
       "      <td>1.041</td>\n",
       "      <td>19.232992</td>\n",
       "    </tr>\n",
       "  </tbody>\n",
       "</table>\n",
       "</div>"
      ],
      "text/plain": [
       "   device                  timestamp  temperature  pressure   humidity\n",
       "0       1  Sat, 10 Jul 2021 14:36:52    89.219314     1.035  20.013658\n",
       "1       2  Sat, 10 Jul 2021 14:37:53    90.935794     1.038  20.886165\n",
       "2       3  Sat, 10 Jul 2021 14:39:54    92.062527     1.035  19.755908\n",
       "3       4  Sat, 10 Jul 2021 14:42:58    92.265875     1.039  19.854078\n",
       "4       5  Sat, 10 Jul 2021 14:48:01    92.830011     1.041  19.232992"
      ]
     },
     "execution_count": 8,
     "metadata": {},
     "output_type": "execute_result"
    }
   ],
   "source": [
    "# Create a DataFrame with the keys and the columns and the nested list of row values as the data. \n",
    "new_temp_data_df = pd.DataFrame(values, columns=column_names[0])\n",
    "new_temp_data_df.head()"
   ]
  },
  {
   "cell_type": "code",
   "execution_count": 9,
   "metadata": {},
   "outputs": [
    {
     "data": {
      "text/html": [
       "<div>\n",
       "<style scoped>\n",
       "    .dataframe tbody tr th:only-of-type {\n",
       "        vertical-align: middle;\n",
       "    }\n",
       "\n",
       "    .dataframe tbody tr th {\n",
       "        vertical-align: top;\n",
       "    }\n",
       "\n",
       "    .dataframe thead th {\n",
       "        text-align: right;\n",
       "    }\n",
       "</style>\n",
       "<table border=\"1\" class=\"dataframe\">\n",
       "  <thead>\n",
       "    <tr style=\"text-align: right;\">\n",
       "      <th></th>\n",
       "      <th>device</th>\n",
       "      <th>timestamp</th>\n",
       "      <th>temperature</th>\n",
       "      <th>pressure</th>\n",
       "      <th>humidity</th>\n",
       "      <th>day</th>\n",
       "    </tr>\n",
       "  </thead>\n",
       "  <tbody>\n",
       "    <tr>\n",
       "      <th>0</th>\n",
       "      <td>1</td>\n",
       "      <td>Sat, 10 Jul 2021 14:36:52</td>\n",
       "      <td>89.219314</td>\n",
       "      <td>1.035</td>\n",
       "      <td>20.013658</td>\n",
       "      <td>Sat</td>\n",
       "    </tr>\n",
       "    <tr>\n",
       "      <th>1</th>\n",
       "      <td>2</td>\n",
       "      <td>Sat, 10 Jul 2021 14:37:53</td>\n",
       "      <td>90.935794</td>\n",
       "      <td>1.038</td>\n",
       "      <td>20.886165</td>\n",
       "      <td>Sat</td>\n",
       "    </tr>\n",
       "    <tr>\n",
       "      <th>2</th>\n",
       "      <td>3</td>\n",
       "      <td>Sat, 10 Jul 2021 14:39:54</td>\n",
       "      <td>92.062527</td>\n",
       "      <td>1.035</td>\n",
       "      <td>19.755908</td>\n",
       "      <td>Sat</td>\n",
       "    </tr>\n",
       "    <tr>\n",
       "      <th>3</th>\n",
       "      <td>4</td>\n",
       "      <td>Sat, 10 Jul 2021 14:42:58</td>\n",
       "      <td>92.265875</td>\n",
       "      <td>1.039</td>\n",
       "      <td>19.854078</td>\n",
       "      <td>Sat</td>\n",
       "    </tr>\n",
       "    <tr>\n",
       "      <th>4</th>\n",
       "      <td>5</td>\n",
       "      <td>Sat, 10 Jul 2021 14:48:01</td>\n",
       "      <td>92.830011</td>\n",
       "      <td>1.041</td>\n",
       "      <td>19.232992</td>\n",
       "      <td>Sat</td>\n",
       "    </tr>\n",
       "  </tbody>\n",
       "</table>\n",
       "</div>"
      ],
      "text/plain": [
       "   device                  timestamp  temperature  pressure   humidity  day\n",
       "0       1  Sat, 10 Jul 2021 14:36:52    89.219314     1.035  20.013658  Sat\n",
       "1       2  Sat, 10 Jul 2021 14:37:53    90.935794     1.038  20.886165  Sat\n",
       "2       3  Sat, 10 Jul 2021 14:39:54    92.062527     1.035  19.755908  Sat\n",
       "3       4  Sat, 10 Jul 2021 14:42:58    92.265875     1.039  19.854078  Sat\n",
       "4       5  Sat, 10 Jul 2021 14:48:01    92.830011     1.041  19.232992  Sat"
      ]
     },
     "execution_count": 9,
     "metadata": {},
     "output_type": "execute_result"
    }
   ],
   "source": [
    "# Extract the day of the week from the timestamp column and add it to a new column.\n",
    "new_temp_data_df['day'] = new_temp_data_df['timestamp'].str.extract(r'(\\D{3})')\n",
    "new_temp_data_df"
   ]
  },
  {
   "cell_type": "code",
   "execution_count": 10,
   "metadata": {},
   "outputs": [
    {
     "data": {
      "text/html": [
       "<div>\n",
       "<style scoped>\n",
       "    .dataframe tbody tr th:only-of-type {\n",
       "        vertical-align: middle;\n",
       "    }\n",
       "\n",
       "    .dataframe tbody tr th {\n",
       "        vertical-align: top;\n",
       "    }\n",
       "\n",
       "    .dataframe thead th {\n",
       "        text-align: right;\n",
       "    }\n",
       "</style>\n",
       "<table border=\"1\" class=\"dataframe\">\n",
       "  <thead>\n",
       "    <tr style=\"text-align: right;\">\n",
       "      <th></th>\n",
       "      <th>device</th>\n",
       "      <th>timestamp</th>\n",
       "      <th>temperature</th>\n",
       "      <th>pressure</th>\n",
       "      <th>humidity</th>\n",
       "      <th>day</th>\n",
       "      <th>date</th>\n",
       "    </tr>\n",
       "  </thead>\n",
       "  <tbody>\n",
       "    <tr>\n",
       "      <th>0</th>\n",
       "      <td>1</td>\n",
       "      <td>Sat, 10 Jul 2021 14:36:52</td>\n",
       "      <td>89.219314</td>\n",
       "      <td>1.035</td>\n",
       "      <td>20.013658</td>\n",
       "      <td>Sat</td>\n",
       "      <td>10 Jul 2021</td>\n",
       "    </tr>\n",
       "    <tr>\n",
       "      <th>1</th>\n",
       "      <td>2</td>\n",
       "      <td>Sat, 10 Jul 2021 14:37:53</td>\n",
       "      <td>90.935794</td>\n",
       "      <td>1.038</td>\n",
       "      <td>20.886165</td>\n",
       "      <td>Sat</td>\n",
       "      <td>10 Jul 2021</td>\n",
       "    </tr>\n",
       "    <tr>\n",
       "      <th>2</th>\n",
       "      <td>3</td>\n",
       "      <td>Sat, 10 Jul 2021 14:39:54</td>\n",
       "      <td>92.062527</td>\n",
       "      <td>1.035</td>\n",
       "      <td>19.755908</td>\n",
       "      <td>Sat</td>\n",
       "      <td>10 Jul 2021</td>\n",
       "    </tr>\n",
       "    <tr>\n",
       "      <th>3</th>\n",
       "      <td>4</td>\n",
       "      <td>Sat, 10 Jul 2021 14:42:58</td>\n",
       "      <td>92.265875</td>\n",
       "      <td>1.039</td>\n",
       "      <td>19.854078</td>\n",
       "      <td>Sat</td>\n",
       "      <td>10 Jul 2021</td>\n",
       "    </tr>\n",
       "    <tr>\n",
       "      <th>4</th>\n",
       "      <td>5</td>\n",
       "      <td>Sat, 10 Jul 2021 14:48:01</td>\n",
       "      <td>92.830011</td>\n",
       "      <td>1.041</td>\n",
       "      <td>19.232992</td>\n",
       "      <td>Sat</td>\n",
       "      <td>10 Jul 2021</td>\n",
       "    </tr>\n",
       "  </tbody>\n",
       "</table>\n",
       "</div>"
      ],
      "text/plain": [
       "   device                  timestamp  temperature  pressure   humidity  day  \\\n",
       "0       1  Sat, 10 Jul 2021 14:36:52    89.219314     1.035  20.013658  Sat   \n",
       "1       2  Sat, 10 Jul 2021 14:37:53    90.935794     1.038  20.886165  Sat   \n",
       "2       3  Sat, 10 Jul 2021 14:39:54    92.062527     1.035  19.755908  Sat   \n",
       "3       4  Sat, 10 Jul 2021 14:42:58    92.265875     1.039  19.854078  Sat   \n",
       "4       5  Sat, 10 Jul 2021 14:48:01    92.830011     1.041  19.232992  Sat   \n",
       "\n",
       "          date  \n",
       "0  10 Jul 2021  \n",
       "1  10 Jul 2021  \n",
       "2  10 Jul 2021  \n",
       "3  10 Jul 2021  \n",
       "4  10 Jul 2021  "
      ]
     },
     "execution_count": 10,
     "metadata": {},
     "output_type": "execute_result"
    }
   ],
   "source": [
    "# Extract the date from the timestamp column and add it a new column.  \n",
    "new_temp_data_df['date'] = new_temp_data_df['timestamp'].str.extract(r'(\\d+\\s\\D{3}\\s\\d{4})')\n",
    "new_temp_data_df"
   ]
  },
  {
   "cell_type": "code",
   "execution_count": 11,
   "metadata": {},
   "outputs": [
    {
     "data": {
      "text/html": [
       "<div>\n",
       "<style scoped>\n",
       "    .dataframe tbody tr th:only-of-type {\n",
       "        vertical-align: middle;\n",
       "    }\n",
       "\n",
       "    .dataframe tbody tr th {\n",
       "        vertical-align: top;\n",
       "    }\n",
       "\n",
       "    .dataframe thead th {\n",
       "        text-align: right;\n",
       "    }\n",
       "</style>\n",
       "<table border=\"1\" class=\"dataframe\">\n",
       "  <thead>\n",
       "    <tr style=\"text-align: right;\">\n",
       "      <th></th>\n",
       "      <th>device</th>\n",
       "      <th>timestamp</th>\n",
       "      <th>temperature</th>\n",
       "      <th>pressure</th>\n",
       "      <th>humidity</th>\n",
       "      <th>day</th>\n",
       "      <th>date</th>\n",
       "      <th>time</th>\n",
       "    </tr>\n",
       "  </thead>\n",
       "  <tbody>\n",
       "    <tr>\n",
       "      <th>0</th>\n",
       "      <td>1</td>\n",
       "      <td>Sat, 10 Jul 2021 14:36:52</td>\n",
       "      <td>89.219314</td>\n",
       "      <td>1.035</td>\n",
       "      <td>20.013658</td>\n",
       "      <td>Sat</td>\n",
       "      <td>10 Jul 2021</td>\n",
       "      <td>14:36:52</td>\n",
       "    </tr>\n",
       "    <tr>\n",
       "      <th>1</th>\n",
       "      <td>2</td>\n",
       "      <td>Sat, 10 Jul 2021 14:37:53</td>\n",
       "      <td>90.935794</td>\n",
       "      <td>1.038</td>\n",
       "      <td>20.886165</td>\n",
       "      <td>Sat</td>\n",
       "      <td>10 Jul 2021</td>\n",
       "      <td>14:37:53</td>\n",
       "    </tr>\n",
       "    <tr>\n",
       "      <th>2</th>\n",
       "      <td>3</td>\n",
       "      <td>Sat, 10 Jul 2021 14:39:54</td>\n",
       "      <td>92.062527</td>\n",
       "      <td>1.035</td>\n",
       "      <td>19.755908</td>\n",
       "      <td>Sat</td>\n",
       "      <td>10 Jul 2021</td>\n",
       "      <td>14:39:54</td>\n",
       "    </tr>\n",
       "    <tr>\n",
       "      <th>3</th>\n",
       "      <td>4</td>\n",
       "      <td>Sat, 10 Jul 2021 14:42:58</td>\n",
       "      <td>92.265875</td>\n",
       "      <td>1.039</td>\n",
       "      <td>19.854078</td>\n",
       "      <td>Sat</td>\n",
       "      <td>10 Jul 2021</td>\n",
       "      <td>14:42:58</td>\n",
       "    </tr>\n",
       "    <tr>\n",
       "      <th>4</th>\n",
       "      <td>5</td>\n",
       "      <td>Sat, 10 Jul 2021 14:48:01</td>\n",
       "      <td>92.830011</td>\n",
       "      <td>1.041</td>\n",
       "      <td>19.232992</td>\n",
       "      <td>Sat</td>\n",
       "      <td>10 Jul 2021</td>\n",
       "      <td>14:48:01</td>\n",
       "    </tr>\n",
       "  </tbody>\n",
       "</table>\n",
       "</div>"
      ],
      "text/plain": [
       "   device                  timestamp  temperature  pressure   humidity  day  \\\n",
       "0       1  Sat, 10 Jul 2021 14:36:52    89.219314     1.035  20.013658  Sat   \n",
       "1       2  Sat, 10 Jul 2021 14:37:53    90.935794     1.038  20.886165  Sat   \n",
       "2       3  Sat, 10 Jul 2021 14:39:54    92.062527     1.035  19.755908  Sat   \n",
       "3       4  Sat, 10 Jul 2021 14:42:58    92.265875     1.039  19.854078  Sat   \n",
       "4       5  Sat, 10 Jul 2021 14:48:01    92.830011     1.041  19.232992  Sat   \n",
       "\n",
       "          date       time  \n",
       "0  10 Jul 2021   14:36:52  \n",
       "1  10 Jul 2021   14:37:53  \n",
       "2  10 Jul 2021   14:39:54  \n",
       "3  10 Jul 2021   14:42:58  \n",
       "4  10 Jul 2021   14:48:01  "
      ]
     },
     "execution_count": 11,
     "metadata": {},
     "output_type": "execute_result"
    }
   ],
   "source": [
    "# Extract the time of day from the timestamp column and add it to a new column.\n",
    "new_temp_data_df['time'] = new_temp_data_df['timestamp'].str.extract(r'(\\s\\d{2}\\W\\d{2}\\W\\d{2})')\n",
    "new_temp_data_df"
   ]
  },
  {
   "cell_type": "code",
   "execution_count": 12,
   "metadata": {},
   "outputs": [
    {
     "name": "stdout",
     "output_type": "stream",
     "text": [
      "<class 'pandas.core.frame.DataFrame'>\n",
      "RangeIndex: 5 entries, 0 to 4\n",
      "Data columns (total 8 columns):\n",
      " #   Column       Non-Null Count  Dtype  \n",
      "---  ------       --------------  -----  \n",
      " 0   device       5 non-null      int64  \n",
      " 1   timestamp    5 non-null      object \n",
      " 2   temperature  5 non-null      float64\n",
      " 3   pressure     5 non-null      float64\n",
      " 4   humidity     5 non-null      float64\n",
      " 5   day          5 non-null      object \n",
      " 6   date         5 non-null      object \n",
      " 7   time         5 non-null      object \n",
      "dtypes: float64(3), int64(1), object(4)\n",
      "memory usage: 448.0+ bytes\n"
     ]
    }
   ],
   "source": [
    "new_temp_data_df.info()"
   ]
  },
  {
   "cell_type": "code",
   "execution_count": 13,
   "metadata": {},
   "outputs": [
    {
     "data": {
      "text/html": [
       "<div>\n",
       "<style scoped>\n",
       "    .dataframe tbody tr th:only-of-type {\n",
       "        vertical-align: middle;\n",
       "    }\n",
       "\n",
       "    .dataframe tbody tr th {\n",
       "        vertical-align: top;\n",
       "    }\n",
       "\n",
       "    .dataframe thead th {\n",
       "        text-align: right;\n",
       "    }\n",
       "</style>\n",
       "<table border=\"1\" class=\"dataframe\">\n",
       "  <thead>\n",
       "    <tr style=\"text-align: right;\">\n",
       "      <th></th>\n",
       "      <th>device</th>\n",
       "      <th>timestamp</th>\n",
       "      <th>temperature</th>\n",
       "      <th>pressure</th>\n",
       "      <th>humidity</th>\n",
       "      <th>day</th>\n",
       "      <th>date</th>\n",
       "      <th>time</th>\n",
       "    </tr>\n",
       "  </thead>\n",
       "  <tbody>\n",
       "    <tr>\n",
       "      <th>0</th>\n",
       "      <td>1</td>\n",
       "      <td>Sat, 10 Jul 2021 14:36:52</td>\n",
       "      <td>89.219314</td>\n",
       "      <td>1.035</td>\n",
       "      <td>20.013658</td>\n",
       "      <td>Sat</td>\n",
       "      <td>2021-07-10</td>\n",
       "      <td>14:36:52</td>\n",
       "    </tr>\n",
       "    <tr>\n",
       "      <th>1</th>\n",
       "      <td>2</td>\n",
       "      <td>Sat, 10 Jul 2021 14:37:53</td>\n",
       "      <td>90.935794</td>\n",
       "      <td>1.038</td>\n",
       "      <td>20.886165</td>\n",
       "      <td>Sat</td>\n",
       "      <td>2021-07-10</td>\n",
       "      <td>14:37:53</td>\n",
       "    </tr>\n",
       "    <tr>\n",
       "      <th>2</th>\n",
       "      <td>3</td>\n",
       "      <td>Sat, 10 Jul 2021 14:39:54</td>\n",
       "      <td>92.062527</td>\n",
       "      <td>1.035</td>\n",
       "      <td>19.755908</td>\n",
       "      <td>Sat</td>\n",
       "      <td>2021-07-10</td>\n",
       "      <td>14:39:54</td>\n",
       "    </tr>\n",
       "    <tr>\n",
       "      <th>3</th>\n",
       "      <td>4</td>\n",
       "      <td>Sat, 10 Jul 2021 14:42:58</td>\n",
       "      <td>92.265875</td>\n",
       "      <td>1.039</td>\n",
       "      <td>19.854078</td>\n",
       "      <td>Sat</td>\n",
       "      <td>2021-07-10</td>\n",
       "      <td>14:42:58</td>\n",
       "    </tr>\n",
       "    <tr>\n",
       "      <th>4</th>\n",
       "      <td>5</td>\n",
       "      <td>Sat, 10 Jul 2021 14:48:01</td>\n",
       "      <td>92.830011</td>\n",
       "      <td>1.041</td>\n",
       "      <td>19.232992</td>\n",
       "      <td>Sat</td>\n",
       "      <td>2021-07-10</td>\n",
       "      <td>14:48:01</td>\n",
       "    </tr>\n",
       "  </tbody>\n",
       "</table>\n",
       "</div>"
      ],
      "text/plain": [
       "   device                  timestamp  temperature  pressure   humidity  day  \\\n",
       "0       1  Sat, 10 Jul 2021 14:36:52    89.219314     1.035  20.013658  Sat   \n",
       "1       2  Sat, 10 Jul 2021 14:37:53    90.935794     1.038  20.886165  Sat   \n",
       "2       3  Sat, 10 Jul 2021 14:39:54    92.062527     1.035  19.755908  Sat   \n",
       "3       4  Sat, 10 Jul 2021 14:42:58    92.265875     1.039  19.854078  Sat   \n",
       "4       5  Sat, 10 Jul 2021 14:48:01    92.830011     1.041  19.232992  Sat   \n",
       "\n",
       "        date       time  \n",
       "0 2021-07-10   14:36:52  \n",
       "1 2021-07-10   14:37:53  \n",
       "2 2021-07-10   14:39:54  \n",
       "3 2021-07-10   14:42:58  \n",
       "4 2021-07-10   14:48:01  "
      ]
     },
     "execution_count": 13,
     "metadata": {},
     "output_type": "execute_result"
    }
   ],
   "source": [
    "# Convert the date to a datetime format. \n",
    "from datetime import datetime as dt\n",
    "# 1. Convert the date to %Y-%m-%d.\n",
    "new_temp_data_df[\"date\"] = pd.to_datetime(new_temp_data_df[\"date\"]).dt.strftime('%Y-%m-%d') \n",
    "# 2. Convert the date to a datetime64[ns] format.\n",
    "new_temp_data_df[\"date\"] = pd.to_datetime(new_temp_data_df[\"date\"])\n",
    "new_temp_data_df"
   ]
  },
  {
   "cell_type": "code",
   "execution_count": 14,
   "metadata": {},
   "outputs": [
    {
     "name": "stdout",
     "output_type": "stream",
     "text": [
      "<class 'pandas.core.frame.DataFrame'>\n",
      "RangeIndex: 5 entries, 0 to 4\n",
      "Data columns (total 8 columns):\n",
      " #   Column       Non-Null Count  Dtype         \n",
      "---  ------       --------------  -----         \n",
      " 0   device       5 non-null      int64         \n",
      " 1   timestamp    5 non-null      object        \n",
      " 2   temperature  5 non-null      float64       \n",
      " 3   pressure     5 non-null      float64       \n",
      " 4   humidity     5 non-null      float64       \n",
      " 5   day          5 non-null      object        \n",
      " 6   date         5 non-null      datetime64[ns]\n",
      " 7   time         5 non-null      object        \n",
      "dtypes: datetime64[ns](1), float64(3), int64(1), object(3)\n",
      "memory usage: 448.0+ bytes\n"
     ]
    }
   ],
   "source": [
    "new_temp_data_df.info()"
   ]
  },
  {
   "cell_type": "code",
   "execution_count": 15,
   "metadata": {},
   "outputs": [
    {
     "data": {
      "text/html": [
       "<div>\n",
       "<style scoped>\n",
       "    .dataframe tbody tr th:only-of-type {\n",
       "        vertical-align: middle;\n",
       "    }\n",
       "\n",
       "    .dataframe tbody tr th {\n",
       "        vertical-align: top;\n",
       "    }\n",
       "\n",
       "    .dataframe thead th {\n",
       "        text-align: right;\n",
       "    }\n",
       "</style>\n",
       "<table border=\"1\" class=\"dataframe\">\n",
       "  <thead>\n",
       "    <tr style=\"text-align: right;\">\n",
       "      <th></th>\n",
       "      <th>device</th>\n",
       "      <th>day</th>\n",
       "      <th>date</th>\n",
       "      <th>time</th>\n",
       "      <th>temperature</th>\n",
       "      <th>pressure</th>\n",
       "      <th>humidity</th>\n",
       "    </tr>\n",
       "  </thead>\n",
       "  <tbody>\n",
       "    <tr>\n",
       "      <th>0</th>\n",
       "      <td>1</td>\n",
       "      <td>Sat</td>\n",
       "      <td>2021-07-10</td>\n",
       "      <td>14:36:52</td>\n",
       "      <td>89.219314</td>\n",
       "      <td>1.035</td>\n",
       "      <td>20.013658</td>\n",
       "    </tr>\n",
       "    <tr>\n",
       "      <th>1</th>\n",
       "      <td>2</td>\n",
       "      <td>Sat</td>\n",
       "      <td>2021-07-10</td>\n",
       "      <td>14:37:53</td>\n",
       "      <td>90.935794</td>\n",
       "      <td>1.038</td>\n",
       "      <td>20.886165</td>\n",
       "    </tr>\n",
       "    <tr>\n",
       "      <th>2</th>\n",
       "      <td>3</td>\n",
       "      <td>Sat</td>\n",
       "      <td>2021-07-10</td>\n",
       "      <td>14:39:54</td>\n",
       "      <td>92.062527</td>\n",
       "      <td>1.035</td>\n",
       "      <td>19.755908</td>\n",
       "    </tr>\n",
       "    <tr>\n",
       "      <th>3</th>\n",
       "      <td>4</td>\n",
       "      <td>Sat</td>\n",
       "      <td>2021-07-10</td>\n",
       "      <td>14:42:58</td>\n",
       "      <td>92.265875</td>\n",
       "      <td>1.039</td>\n",
       "      <td>19.854078</td>\n",
       "    </tr>\n",
       "    <tr>\n",
       "      <th>4</th>\n",
       "      <td>5</td>\n",
       "      <td>Sat</td>\n",
       "      <td>2021-07-10</td>\n",
       "      <td>14:48:01</td>\n",
       "      <td>92.830011</td>\n",
       "      <td>1.041</td>\n",
       "      <td>19.232992</td>\n",
       "    </tr>\n",
       "  </tbody>\n",
       "</table>\n",
       "</div>"
      ],
      "text/plain": [
       "   device  day       date       time  temperature  pressure   humidity\n",
       "0       1  Sat 2021-07-10   14:36:52    89.219314     1.035  20.013658\n",
       "1       2  Sat 2021-07-10   14:37:53    90.935794     1.038  20.886165\n",
       "2       3  Sat 2021-07-10   14:39:54    92.062527     1.035  19.755908\n",
       "3       4  Sat 2021-07-10   14:42:58    92.265875     1.039  19.854078\n",
       "4       5  Sat 2021-07-10   14:48:01    92.830011     1.041  19.232992"
      ]
     },
     "execution_count": 15,
     "metadata": {},
     "output_type": "execute_result"
    }
   ],
   "source": [
    "# Drop the timestamp column.\n",
    "temp_data_df_clean = new_temp_data_df.drop([\"timestamp\"], axis=1)\n",
    "# Reorder the columns.\n",
    "temp_data_df_clean = temp_data_df_clean[['device','day', 'date', 'time', 'temperature', 'pressure', 'humidity']]\n",
    "temp_data_df_clean"
   ]
  },
  {
   "cell_type": "code",
   "execution_count": null,
   "metadata": {},
   "outputs": [],
   "source": []
  }
 ],
 "metadata": {
  "kernelspec": {
   "display_name": "PythonData",
   "language": "python",
   "name": "python3"
  },
  "language_info": {
   "codemirror_mode": {
    "name": "ipython",
    "version": 3
   },
   "file_extension": ".py",
   "mimetype": "text/x-python",
   "name": "python",
   "nbconvert_exporter": "python",
   "pygments_lexer": "ipython3",
   "version": "3.7.7"
  },
  "vscode": {
   "interpreter": {
    "hash": "f0ac88bd63441732d797e9360aebe80ad57d8a1e6e884148776f575141580283"
   }
  }
 },
 "nbformat": 4,
 "nbformat_minor": 4
}
